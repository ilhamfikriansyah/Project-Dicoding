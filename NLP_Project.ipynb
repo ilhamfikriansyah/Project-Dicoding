{
  "nbformat": 4,
  "nbformat_minor": 0,
  "metadata": {
    "colab": {
      "name": "NLP PROJECT",
      "provenance": [],
      "collapsed_sections": []
    },
    "kernelspec": {
      "name": "python3",
      "display_name": "Python 3"
    },
    "language_info": {
      "name": "python"
    }
  },
  "cells": [
    {
      "cell_type": "markdown",
      "metadata": {
        "id": "GfcnZCcEiZ6C"
      },
      "source": [
        "Nama : Ilham Fikriansyah\n",
        "\n",
        "Email : 1703162\n",
        "\n",
        "\n",
        "\n",
        "Deskripsi\n",
        "\n",
        "data yang digunakan adalah data dari https://www.kaggle.com/hassanamin/atis-airlinetravelinformationsystem "
      ]
    },
    {
      "cell_type": "code",
      "metadata": {
        "id": "dYSnqCDKFzrk"
      },
      "source": [
        "import pandas as pd\n",
        "df = pd.read_csv('/content/sample_data/atis_intents.csv', names=['label', 'sentence'])\n",
        "pd.set_option('display.max_rows', 10)"
      ],
      "execution_count": 82,
      "outputs": []
    },
    {
      "cell_type": "code",
      "metadata": {
        "colab": {
          "base_uri": "https://localhost:8080/",
          "height": 408
        },
        "id": "MX90m038Sr2K",
        "outputId": "22d8e65d-77de-4a2e-dd5d-b4388ff606a1"
      },
      "source": [
        "df"
      ],
      "execution_count": 83,
      "outputs": [
        {
          "output_type": "execute_result",
          "data": {
            "text/html": [
              "<div>\n",
              "<style scoped>\n",
              "    .dataframe tbody tr th:only-of-type {\n",
              "        vertical-align: middle;\n",
              "    }\n",
              "\n",
              "    .dataframe tbody tr th {\n",
              "        vertical-align: top;\n",
              "    }\n",
              "\n",
              "    .dataframe thead th {\n",
              "        text-align: right;\n",
              "    }\n",
              "</style>\n",
              "<table border=\"1\" class=\"dataframe\">\n",
              "  <thead>\n",
              "    <tr style=\"text-align: right;\">\n",
              "      <th></th>\n",
              "      <th>label</th>\n",
              "      <th>sentence</th>\n",
              "    </tr>\n",
              "  </thead>\n",
              "  <tbody>\n",
              "    <tr>\n",
              "      <th>0</th>\n",
              "      <td>atis_flight</td>\n",
              "      <td>i want to fly from boston at 838 am and arriv...</td>\n",
              "    </tr>\n",
              "    <tr>\n",
              "      <th>1</th>\n",
              "      <td>atis_flight</td>\n",
              "      <td>what flights are available from pittsburgh to...</td>\n",
              "    </tr>\n",
              "    <tr>\n",
              "      <th>2</th>\n",
              "      <td>atis_flight_time</td>\n",
              "      <td>what is the arrival time in san francisco for...</td>\n",
              "    </tr>\n",
              "    <tr>\n",
              "      <th>3</th>\n",
              "      <td>atis_airfare</td>\n",
              "      <td>cheapest airfare from tacoma to orlando</td>\n",
              "    </tr>\n",
              "    <tr>\n",
              "      <th>4</th>\n",
              "      <td>atis_airfare</td>\n",
              "      <td>round trip fares from pittsburgh to philadelp...</td>\n",
              "    </tr>\n",
              "    <tr>\n",
              "      <th>...</th>\n",
              "      <td>...</td>\n",
              "      <td>...</td>\n",
              "    </tr>\n",
              "    <tr>\n",
              "      <th>4973</th>\n",
              "      <td>atis_airfare</td>\n",
              "      <td>what is the airfare for flights from denver t...</td>\n",
              "    </tr>\n",
              "    <tr>\n",
              "      <th>4974</th>\n",
              "      <td>atis_flight</td>\n",
              "      <td>do you have any flights from denver to baltim...</td>\n",
              "    </tr>\n",
              "    <tr>\n",
              "      <th>4975</th>\n",
              "      <td>atis_airline</td>\n",
              "      <td>which airlines fly into and out of denver</td>\n",
              "    </tr>\n",
              "    <tr>\n",
              "      <th>4976</th>\n",
              "      <td>atis_flight</td>\n",
              "      <td>does continental fly from boston to san franc...</td>\n",
              "    </tr>\n",
              "    <tr>\n",
              "      <th>4977</th>\n",
              "      <td>atis_flight</td>\n",
              "      <td>is there a delta flight from denver to san fr...</td>\n",
              "    </tr>\n",
              "  </tbody>\n",
              "</table>\n",
              "<p>4978 rows × 2 columns</p>\n",
              "</div>"
            ],
            "text/plain": [
              "                 label                                           sentence\n",
              "0          atis_flight   i want to fly from boston at 838 am and arriv...\n",
              "1          atis_flight   what flights are available from pittsburgh to...\n",
              "2     atis_flight_time   what is the arrival time in san francisco for...\n",
              "3         atis_airfare            cheapest airfare from tacoma to orlando\n",
              "4         atis_airfare   round trip fares from pittsburgh to philadelp...\n",
              "...                ...                                                ...\n",
              "4973      atis_airfare   what is the airfare for flights from denver t...\n",
              "4974       atis_flight   do you have any flights from denver to baltim...\n",
              "4975      atis_airline          which airlines fly into and out of denver\n",
              "4976       atis_flight   does continental fly from boston to san franc...\n",
              "4977       atis_flight   is there a delta flight from denver to san fr...\n",
              "\n",
              "[4978 rows x 2 columns]"
            ]
          },
          "metadata": {
            "tags": []
          },
          "execution_count": 83
        }
      ]
    },
    {
      "cell_type": "code",
      "metadata": {
        "colab": {
          "base_uri": "https://localhost:8080/"
        },
        "id": "uzV5g2giGIuU",
        "outputId": "7a635cc7-08c3-48cf-83d2-5e7bf3e7c5e3"
      },
      "source": [
        "print(df['label'].unique())\n",
        "print(len(df['label'].unique()))"
      ],
      "execution_count": 84,
      "outputs": [
        {
          "output_type": "stream",
          "text": [
            "['atis_flight' 'atis_flight_time' 'atis_airfare' 'atis_aircraft'\n",
            " 'atis_ground_service' 'atis_airport' 'atis_airline' 'atis_distance'\n",
            " 'atis_abbreviation' 'atis_ground_fare' 'atis_quantity' 'atis_city'\n",
            " 'atis_flight_no' 'atis_capacity' 'atis_flight#atis_airfare' 'atis_meal'\n",
            " 'atis_restriction' 'atis_airline#atis_flight_no'\n",
            " 'atis_ground_service#atis_ground_fare' 'atis_airfare#atis_flight_time'\n",
            " 'atis_cheapest' 'atis_aircraft#atis_flight#atis_flight_no']\n",
            "22\n"
          ],
          "name": "stdout"
        }
      ]
    },
    {
      "cell_type": "code",
      "metadata": {
        "colab": {
          "base_uri": "https://localhost:8080/"
        },
        "id": "iOta7PaFL9-B",
        "outputId": "eb4b355f-3ab8-47b4-9b27-6cf2e2f4a907"
      },
      "source": [
        "df.info()"
      ],
      "execution_count": 85,
      "outputs": [
        {
          "output_type": "stream",
          "text": [
            "<class 'pandas.core.frame.DataFrame'>\n",
            "RangeIndex: 4978 entries, 0 to 4977\n",
            "Data columns (total 2 columns):\n",
            " #   Column    Non-Null Count  Dtype \n",
            "---  ------    --------------  ----- \n",
            " 0   label     4978 non-null   object\n",
            " 1   sentence  4978 non-null   object\n",
            "dtypes: object(2)\n",
            "memory usage: 77.9+ KB\n"
          ],
          "name": "stdout"
        }
      ]
    },
    {
      "cell_type": "code",
      "metadata": {
        "colab": {
          "base_uri": "https://localhost:8080/",
          "height": 561
        },
        "id": "0s_jEbTlTFVP",
        "outputId": "f9ba97d4-0eda-40b7-d393-03813ed94f89"
      },
      "source": [
        "category = pd.get_dummies(df.label)\n",
        "df_baru = pd.concat([df, category], axis=1)\n",
        "df_baru = df_baru.drop(columns='label')\n",
        "df_baru.head()"
      ],
      "execution_count": 86,
      "outputs": [
        {
          "output_type": "execute_result",
          "data": {
            "text/html": [
              "<div>\n",
              "<style scoped>\n",
              "    .dataframe tbody tr th:only-of-type {\n",
              "        vertical-align: middle;\n",
              "    }\n",
              "\n",
              "    .dataframe tbody tr th {\n",
              "        vertical-align: top;\n",
              "    }\n",
              "\n",
              "    .dataframe thead th {\n",
              "        text-align: right;\n",
              "    }\n",
              "</style>\n",
              "<table border=\"1\" class=\"dataframe\">\n",
              "  <thead>\n",
              "    <tr style=\"text-align: right;\">\n",
              "      <th></th>\n",
              "      <th>sentence</th>\n",
              "      <th>atis_abbreviation</th>\n",
              "      <th>atis_aircraft</th>\n",
              "      <th>atis_aircraft#atis_flight#atis_flight_no</th>\n",
              "      <th>atis_airfare</th>\n",
              "      <th>atis_airfare#atis_flight_time</th>\n",
              "      <th>atis_airline</th>\n",
              "      <th>atis_airline#atis_flight_no</th>\n",
              "      <th>atis_airport</th>\n",
              "      <th>atis_capacity</th>\n",
              "      <th>atis_cheapest</th>\n",
              "      <th>atis_city</th>\n",
              "      <th>atis_distance</th>\n",
              "      <th>atis_flight</th>\n",
              "      <th>atis_flight#atis_airfare</th>\n",
              "      <th>atis_flight_no</th>\n",
              "      <th>atis_flight_time</th>\n",
              "      <th>atis_ground_fare</th>\n",
              "      <th>atis_ground_service</th>\n",
              "      <th>atis_ground_service#atis_ground_fare</th>\n",
              "      <th>atis_meal</th>\n",
              "      <th>atis_quantity</th>\n",
              "      <th>atis_restriction</th>\n",
              "    </tr>\n",
              "  </thead>\n",
              "  <tbody>\n",
              "    <tr>\n",
              "      <th>0</th>\n",
              "      <td>i want to fly from boston at 838 am and arriv...</td>\n",
              "      <td>0</td>\n",
              "      <td>0</td>\n",
              "      <td>0</td>\n",
              "      <td>0</td>\n",
              "      <td>0</td>\n",
              "      <td>0</td>\n",
              "      <td>0</td>\n",
              "      <td>0</td>\n",
              "      <td>0</td>\n",
              "      <td>0</td>\n",
              "      <td>0</td>\n",
              "      <td>0</td>\n",
              "      <td>1</td>\n",
              "      <td>0</td>\n",
              "      <td>0</td>\n",
              "      <td>0</td>\n",
              "      <td>0</td>\n",
              "      <td>0</td>\n",
              "      <td>0</td>\n",
              "      <td>0</td>\n",
              "      <td>0</td>\n",
              "      <td>0</td>\n",
              "    </tr>\n",
              "    <tr>\n",
              "      <th>1</th>\n",
              "      <td>what flights are available from pittsburgh to...</td>\n",
              "      <td>0</td>\n",
              "      <td>0</td>\n",
              "      <td>0</td>\n",
              "      <td>0</td>\n",
              "      <td>0</td>\n",
              "      <td>0</td>\n",
              "      <td>0</td>\n",
              "      <td>0</td>\n",
              "      <td>0</td>\n",
              "      <td>0</td>\n",
              "      <td>0</td>\n",
              "      <td>0</td>\n",
              "      <td>1</td>\n",
              "      <td>0</td>\n",
              "      <td>0</td>\n",
              "      <td>0</td>\n",
              "      <td>0</td>\n",
              "      <td>0</td>\n",
              "      <td>0</td>\n",
              "      <td>0</td>\n",
              "      <td>0</td>\n",
              "      <td>0</td>\n",
              "    </tr>\n",
              "    <tr>\n",
              "      <th>2</th>\n",
              "      <td>what is the arrival time in san francisco for...</td>\n",
              "      <td>0</td>\n",
              "      <td>0</td>\n",
              "      <td>0</td>\n",
              "      <td>0</td>\n",
              "      <td>0</td>\n",
              "      <td>0</td>\n",
              "      <td>0</td>\n",
              "      <td>0</td>\n",
              "      <td>0</td>\n",
              "      <td>0</td>\n",
              "      <td>0</td>\n",
              "      <td>0</td>\n",
              "      <td>0</td>\n",
              "      <td>0</td>\n",
              "      <td>0</td>\n",
              "      <td>1</td>\n",
              "      <td>0</td>\n",
              "      <td>0</td>\n",
              "      <td>0</td>\n",
              "      <td>0</td>\n",
              "      <td>0</td>\n",
              "      <td>0</td>\n",
              "    </tr>\n",
              "    <tr>\n",
              "      <th>3</th>\n",
              "      <td>cheapest airfare from tacoma to orlando</td>\n",
              "      <td>0</td>\n",
              "      <td>0</td>\n",
              "      <td>0</td>\n",
              "      <td>1</td>\n",
              "      <td>0</td>\n",
              "      <td>0</td>\n",
              "      <td>0</td>\n",
              "      <td>0</td>\n",
              "      <td>0</td>\n",
              "      <td>0</td>\n",
              "      <td>0</td>\n",
              "      <td>0</td>\n",
              "      <td>0</td>\n",
              "      <td>0</td>\n",
              "      <td>0</td>\n",
              "      <td>0</td>\n",
              "      <td>0</td>\n",
              "      <td>0</td>\n",
              "      <td>0</td>\n",
              "      <td>0</td>\n",
              "      <td>0</td>\n",
              "      <td>0</td>\n",
              "    </tr>\n",
              "    <tr>\n",
              "      <th>4</th>\n",
              "      <td>round trip fares from pittsburgh to philadelp...</td>\n",
              "      <td>0</td>\n",
              "      <td>0</td>\n",
              "      <td>0</td>\n",
              "      <td>1</td>\n",
              "      <td>0</td>\n",
              "      <td>0</td>\n",
              "      <td>0</td>\n",
              "      <td>0</td>\n",
              "      <td>0</td>\n",
              "      <td>0</td>\n",
              "      <td>0</td>\n",
              "      <td>0</td>\n",
              "      <td>0</td>\n",
              "      <td>0</td>\n",
              "      <td>0</td>\n",
              "      <td>0</td>\n",
              "      <td>0</td>\n",
              "      <td>0</td>\n",
              "      <td>0</td>\n",
              "      <td>0</td>\n",
              "      <td>0</td>\n",
              "      <td>0</td>\n",
              "    </tr>\n",
              "  </tbody>\n",
              "</table>\n",
              "</div>"
            ],
            "text/plain": [
              "                                            sentence  ...  atis_restriction\n",
              "0   i want to fly from boston at 838 am and arriv...  ...                 0\n",
              "1   what flights are available from pittsburgh to...  ...                 0\n",
              "2   what is the arrival time in san francisco for...  ...                 0\n",
              "3            cheapest airfare from tacoma to orlando  ...                 0\n",
              "4   round trip fares from pittsburgh to philadelp...  ...                 0\n",
              "\n",
              "[5 rows x 23 columns]"
            ]
          },
          "metadata": {
            "tags": []
          },
          "execution_count": 86
        }
      ]
    },
    {
      "cell_type": "code",
      "metadata": {
        "id": "TymFZAHNTTDf"
      },
      "source": [
        "sentence = df_baru['sentence'].values\n",
        "label = df_baru[['atis_flight','atis_flight_time','atis_airfare','atis_aircraft','atis_ground_service','atis_airport','atis_airline','atis_distance','atis_abbreviation','atis_ground_fare','atis_quantity','atis_city','atis_flight_no','atis_capacity','atis_flight#atis_airfare','atis_meal','atis_restriction','atis_airline#atis_flight_no','atis_ground_service#atis_ground_fare','atis_airfare#atis_flight_time','atis_cheapest','atis_aircraft#atis_flight#atis_flight_no']].values"
      ],
      "execution_count": 87,
      "outputs": []
    },
    {
      "cell_type": "code",
      "metadata": {
        "id": "LcsgigIEUgN3"
      },
      "source": [
        "from sklearn.model_selection import train_test_split\n",
        "sentence_latih, sentence_test, label_latih, label_test = train_test_split(sentence, label, test_size=0.2)"
      ],
      "execution_count": 88,
      "outputs": []
    },
    {
      "cell_type": "code",
      "metadata": {
        "id": "3ZU2ISnGUtMR"
      },
      "source": [
        "from tensorflow.keras.preprocessing.text import Tokenizer\n",
        "from tensorflow.keras.preprocessing.sequence import pad_sequences\n",
        " \n",
        "tokenizer = Tokenizer(num_words=5000, oov_token='x')\n",
        "tokenizer.fit_on_texts(sentence_latih) \n",
        "tokenizer.fit_on_texts(sentence_test)\n",
        " \n",
        "sekuens_latih = tokenizer.texts_to_sequences(sentence_latih)\n",
        "sekuens_test = tokenizer.texts_to_sequences(sentence_test)\n",
        " \n",
        "padded_latih = pad_sequences(sekuens_latih) \n",
        "padded_test = pad_sequences(sekuens_test)"
      ],
      "execution_count": 89,
      "outputs": []
    },
    {
      "cell_type": "code",
      "metadata": {
        "id": "ArSvJOCpVFcI"
      },
      "source": [
        "import tensorflow as tf\n",
        "model = tf.keras.Sequential([\n",
        "    tf.keras.layers.Embedding(input_dim=5000, output_dim=16),\n",
        "    tf.keras.layers.LSTM(64),\n",
        "    tf.keras.layers.Dense(128, activation='relu'),\n",
        "    tf.keras.layers.Dense(64, activation='relu'),\n",
        "    tf.keras.layers.Dense(32, activation='relu'),\n",
        "    tf.keras.layers.Dense(22, activation='softmax'),\n",
        "    tf.keras.layers.Dropout(rate=0.01)\n",
        "])\n",
        "model.compile(loss='categorical_crossentropy',optimizer='adam',metrics=['accuracy'])"
      ],
      "execution_count": 90,
      "outputs": []
    },
    {
      "cell_type": "code",
      "metadata": {
        "id": "ZaekewaBYaWr"
      },
      "source": [
        "import keras as tfs\n",
        "# define the checkpoint\n",
        "checkpoint_filepath=\"/content/sample_data/rps-{epoch:02d}-{accuracy:.4f}-{val_accuracy:.4f}.hdf5\"\n",
        "model_checkpoint_callback = tfs.callbacks.ModelCheckpoint(\n",
        "    filepath=checkpoint_filepath,\n",
        "    save_weights_only=False,\n",
        "    monitor='val_accuracy',\n",
        "    mode='max',\n",
        "    save_best_only=True)"
      ],
      "execution_count": 91,
      "outputs": []
    },
    {
      "cell_type": "code",
      "metadata": {
        "colab": {
          "base_uri": "https://localhost:8080/"
        },
        "id": "JR-KU3_9VNhd",
        "outputId": "6b3ed5ae-c3aa-428b-c7cc-d5cf12b12067"
      },
      "source": [
        "num_epochs = 10\n",
        "history = model.fit(padded_latih, label_latih, epochs=num_epochs, \n",
        "                    validation_data=(padded_test, label_test), verbose=2, callbacks=[model_checkpoint_callback])"
      ],
      "execution_count": 92,
      "outputs": [
        {
          "output_type": "stream",
          "text": [
            "Epoch 1/10\n",
            "125/125 - 6s - loss: 1.5508 - accuracy: 0.7240 - val_loss: 1.0770 - val_accuracy: 0.7390\n",
            "Epoch 2/10\n",
            "125/125 - 3s - loss: 1.0454 - accuracy: 0.7454 - val_loss: 0.6972 - val_accuracy: 0.7902\n",
            "Epoch 3/10\n",
            "125/125 - 3s - loss: 0.7295 - accuracy: 0.8127 - val_loss: 0.5669 - val_accuracy: 0.8624\n",
            "Epoch 4/10\n",
            "125/125 - 3s - loss: 0.5601 - accuracy: 0.8754 - val_loss: 0.4019 - val_accuracy: 0.8976\n",
            "Epoch 5/10\n",
            "125/125 - 3s - loss: 0.4664 - accuracy: 0.9008 - val_loss: 0.3318 - val_accuracy: 0.9076\n",
            "Epoch 6/10\n",
            "125/125 - 3s - loss: 0.4309 - accuracy: 0.9144 - val_loss: 0.3068 - val_accuracy: 0.9177\n",
            "Epoch 7/10\n",
            "125/125 - 3s - loss: 0.3890 - accuracy: 0.9262 - val_loss: 0.2623 - val_accuracy: 0.9277\n",
            "Epoch 8/10\n",
            "125/125 - 3s - loss: 0.3275 - accuracy: 0.9312 - val_loss: 0.2873 - val_accuracy: 0.9147\n",
            "Epoch 9/10\n",
            "125/125 - 3s - loss: 0.3382 - accuracy: 0.9417 - val_loss: 0.2388 - val_accuracy: 0.9438\n",
            "Epoch 10/10\n",
            "125/125 - 3s - loss: 0.2612 - accuracy: 0.9533 - val_loss: 0.2344 - val_accuracy: 0.9408\n"
          ],
          "name": "stdout"
        }
      ]
    },
    {
      "cell_type": "code",
      "metadata": {
        "colab": {
          "base_uri": "https://localhost:8080/",
          "height": 295
        },
        "id": "hAs8W-OdVtSi",
        "outputId": "f7c0423b-ba36-4b72-cd07-331b4704cb40"
      },
      "source": [
        "import matplotlib.pyplot as plt\n",
        "plt.plot(history.history['accuracy'])\n",
        "plt.plot(history.history['val_accuracy'])\n",
        "plt.title('Akurasi Model')\n",
        "plt.ylabel('accuracy')\n",
        "plt.xlabel('epoch')\n",
        "plt.legend(['train', 'test'], loc='upper left')\n",
        "plt.show()"
      ],
      "execution_count": 94,
      "outputs": [
        {
          "output_type": "display_data",
          "data": {
            "image/png": "[encoded data removed]",
            "text/plain": [
              "<Figure size 432x288 with 1 Axes>"
            ]
          },
          "metadata": {
            "tags": [],
            "needs_background": "light"
          }
        }
      ]
    },
    {
      "cell_type": "code",
      "metadata": {
        "colab": {
          "base_uri": "https://localhost:8080/",
          "height": 295
        },
        "id": "zay-ToRVVwAj",
        "outputId": "7d300a7a-04dc-4f29-a455-6f9e80cf1325"
      },
      "source": [
        "plt.plot(history.history['loss'])\n",
        "plt.plot(history.history['val_loss'])\n",
        "plt.title('Loss Model')\n",
        "plt.ylabel('loss')\n",
        "plt.xlabel('epoch')\n",
        "plt.legend(['train', 'test'], loc='upper left')\n",
        "plt.show()"
      ],
      "execution_count": 95,
      "outputs": [
        {
          "output_type": "display_data",
          "data": {
            "image/png": "[encoded data removed]",
            "text/plain": [
              "<Figure size 432x288 with 1 Axes>"
            ]
          },
          "metadata": {
            "tags": [],
            "needs_background": "light"
          }
        }
      ]
    },
    {
      "cell_type": "code",
      "metadata": {
        "id": "sWToke1uVybK"
      },
      "source": [
        "from tensorflow.keras.models import load_model\n",
        "\n",
        "# load model\n",
        "model = load_model('/content/sample_data/rps-09-0.9417-0.9438.hdf5')"
      ],
      "execution_count": 96,
      "outputs": []
    },
    {
      "cell_type": "code",
      "metadata": {
        "colab": {
          "base_uri": "https://localhost:8080/"
        },
        "id": "34Qz4nzkaU3Q",
        "outputId": "061f25ed-ad55-45f6-e03c-2f8a0e7c8127"
      },
      "source": [
        "print(tokenizer.texts_to_sequences(['Elon musk is good guy , he owns spacex, tesla.']))"
      ],
      "execution_count": 100,
      "outputs": [
        {
          "output_type": "stream",
          "text": [
            "[[1, 1, 21, 1, 1, 1, 1, 1, 1]]\n"
          ],
          "name": "stdout"
        }
      ]
    },
    {
      "cell_type": "code",
      "metadata": {
        "colab": {
          "base_uri": "https://localhost:8080/"
        },
        "id": "eG-vxJWHen_B",
        "outputId": "2d8fdeef-6932-4612-ec4e-c459e6bb5633"
      },
      "source": [
        "model.predict([2,3])"
      ],
      "execution_count": 105,
      "outputs": [
        {
          "output_type": "execute_result",
          "data": {
            "text/plain": [
              "array([[0.17843814, 0.16260952, 0.1257146 , 0.02984713, 0.0113762 ,\n",
              "        0.03228777, 0.1765651 , 0.03312072, 0.02321811, 0.00559207,\n",
              "        0.01993027, 0.02265608, 0.04858971, 0.01350076, 0.04895829,\n",
              "        0.02972922, 0.00567664, 0.0121454 , 0.00197398, 0.00673576,\n",
              "        0.00265315, 0.00868141],\n",
              "       [0.10404089, 0.15727498, 0.20194994, 0.03676838, 0.01119073,\n",
              "        0.02447125, 0.09880649, 0.04713961, 0.03010442, 0.00960379,\n",
              "        0.03249157, 0.03129665, 0.05594238, 0.01739848, 0.05534958,\n",
              "        0.03259577, 0.00838211, 0.01633846, 0.0040123 , 0.00938553,\n",
              "        0.00467001, 0.01078679]], dtype=float32)"
            ]
          },
          "metadata": {
            "tags": []
          },
          "execution_count": 105
        }
      ]
    },
    {
      "cell_type": "code",
      "metadata": {
        "id": "cDmtrBBsk9FK"
      },
      "source": [
        ""
      ],
      "execution_count": null,
      "outputs": []
    }
  ]
}