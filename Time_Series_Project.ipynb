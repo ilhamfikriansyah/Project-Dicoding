{
  "nbformat": 4,
  "nbformat_minor": 0,
  "metadata": {
    "colab": {
      "name": "TIME SERIES PROJECT BENER",
      "provenance": [],
      "collapsed_sections": []
    },
    "kernelspec": {
      "name": "python3",
      "display_name": "Python 3"
    },
    "language_info": {
      "name": "python"
    }
  },
  "cells": [
    {
      "cell_type": "markdown",
      "metadata": {
        "id": "B9gAvHOACu2m"
      },
      "source": [
        "Nama : Ilham Fikriansyah\n",
        "\n",
        "Email : ilhamfikriansyah112145@upi.edu"
      ]
    },
    {
      "cell_type": "code",
      "metadata": {
        "id": "MUyP71r3eYBJ"
      },
      "source": [
        "import pandas as pd\n",
        "import numpy as np\n",
        "import matplotlib.pyplot as plt\n",
        "import tensorflow as tf"
      ],
      "execution_count": 1,
      "outputs": []
    },
    {
      "cell_type": "code",
      "metadata": {
        "colab": {
          "base_uri": "https://localhost:8080/",
          "height": 408
        },
        "id": "6DIbkgbWezlq",
        "outputId": "7fa6653c-f2a5-4a60-fdcd-1afd23a5135d"
      },
      "source": [
        "#https://www.kaggle.com/mattiuzc/stock-exchange-data\n",
        "df = pd.read_csv('/content/sample_data/indexData.csv')\n",
        "df"
      ],
      "execution_count": 2,
      "outputs": [
        {
          "output_type": "execute_result",
          "data": {
            "text/html": [
              "<div>\n",
              "<style scoped>\n",
              "    .dataframe tbody tr th:only-of-type {\n",
              "        vertical-align: middle;\n",
              "    }\n",
              "\n",
              "    .dataframe tbody tr th {\n",
              "        vertical-align: top;\n",
              "    }\n",
              "\n",
              "    .dataframe thead th {\n",
              "        text-align: right;\n",
              "    }\n",
              "</style>\n",
              "<table border=\"1\" class=\"dataframe\">\n",
              "  <thead>\n",
              "    <tr style=\"text-align: right;\">\n",
              "      <th></th>\n",
              "      <th>Index</th>\n",
              "      <th>Date</th>\n",
              "      <th>Open</th>\n",
              "      <th>High</th>\n",
              "      <th>Low</th>\n",
              "      <th>Close</th>\n",
              "      <th>Adj Close</th>\n",
              "      <th>Volume</th>\n",
              "    </tr>\n",
              "  </thead>\n",
              "  <tbody>\n",
              "    <tr>\n",
              "      <th>0</th>\n",
              "      <td>NYA</td>\n",
              "      <td>1965-12-31</td>\n",
              "      <td>528.690002</td>\n",
              "      <td>528.690002</td>\n",
              "      <td>528.690002</td>\n",
              "      <td>528.690002</td>\n",
              "      <td>528.690002</td>\n",
              "      <td>0.0</td>\n",
              "    </tr>\n",
              "    <tr>\n",
              "      <th>1</th>\n",
              "      <td>NYA</td>\n",
              "      <td>1966-01-03</td>\n",
              "      <td>527.210022</td>\n",
              "      <td>527.210022</td>\n",
              "      <td>527.210022</td>\n",
              "      <td>527.210022</td>\n",
              "      <td>527.210022</td>\n",
              "      <td>0.0</td>\n",
              "    </tr>\n",
              "    <tr>\n",
              "      <th>2</th>\n",
              "      <td>NYA</td>\n",
              "      <td>1966-01-04</td>\n",
              "      <td>527.840027</td>\n",
              "      <td>527.840027</td>\n",
              "      <td>527.840027</td>\n",
              "      <td>527.840027</td>\n",
              "      <td>527.840027</td>\n",
              "      <td>0.0</td>\n",
              "    </tr>\n",
              "    <tr>\n",
              "      <th>3</th>\n",
              "      <td>NYA</td>\n",
              "      <td>1966-01-05</td>\n",
              "      <td>531.119995</td>\n",
              "      <td>531.119995</td>\n",
              "      <td>531.119995</td>\n",
              "      <td>531.119995</td>\n",
              "      <td>531.119995</td>\n",
              "      <td>0.0</td>\n",
              "    </tr>\n",
              "    <tr>\n",
              "      <th>4</th>\n",
              "      <td>NYA</td>\n",
              "      <td>1966-01-06</td>\n",
              "      <td>532.070007</td>\n",
              "      <td>532.070007</td>\n",
              "      <td>532.070007</td>\n",
              "      <td>532.070007</td>\n",
              "      <td>532.070007</td>\n",
              "      <td>0.0</td>\n",
              "    </tr>\n",
              "    <tr>\n",
              "      <th>...</th>\n",
              "      <td>...</td>\n",
              "      <td>...</td>\n",
              "      <td>...</td>\n",
              "      <td>...</td>\n",
              "      <td>...</td>\n",
              "      <td>...</td>\n",
              "      <td>...</td>\n",
              "      <td>...</td>\n",
              "    </tr>\n",
              "    <tr>\n",
              "      <th>112452</th>\n",
              "      <td>N100</td>\n",
              "      <td>2021-05-27</td>\n",
              "      <td>1241.119995</td>\n",
              "      <td>1251.910034</td>\n",
              "      <td>1241.119995</td>\n",
              "      <td>1247.069946</td>\n",
              "      <td>1247.069946</td>\n",
              "      <td>379696400.0</td>\n",
              "    </tr>\n",
              "    <tr>\n",
              "      <th>112453</th>\n",
              "      <td>N100</td>\n",
              "      <td>2021-05-28</td>\n",
              "      <td>1249.469971</td>\n",
              "      <td>1259.209961</td>\n",
              "      <td>1249.030029</td>\n",
              "      <td>1256.599976</td>\n",
              "      <td>1256.599976</td>\n",
              "      <td>160773400.0</td>\n",
              "    </tr>\n",
              "    <tr>\n",
              "      <th>112454</th>\n",
              "      <td>N100</td>\n",
              "      <td>2021-05-31</td>\n",
              "      <td>1256.079956</td>\n",
              "      <td>1258.880005</td>\n",
              "      <td>1248.140015</td>\n",
              "      <td>1248.930054</td>\n",
              "      <td>1248.930054</td>\n",
              "      <td>91173700.0</td>\n",
              "    </tr>\n",
              "    <tr>\n",
              "      <th>112455</th>\n",
              "      <td>N100</td>\n",
              "      <td>2021-06-01</td>\n",
              "      <td>1254.609985</td>\n",
              "      <td>1265.660034</td>\n",
              "      <td>1254.609985</td>\n",
              "      <td>1258.579956</td>\n",
              "      <td>1258.579956</td>\n",
              "      <td>155179900.0</td>\n",
              "    </tr>\n",
              "    <tr>\n",
              "      <th>112456</th>\n",
              "      <td>N100</td>\n",
              "      <td>2021-06-02</td>\n",
              "      <td>1258.489990</td>\n",
              "      <td>1263.709961</td>\n",
              "      <td>1258.239990</td>\n",
              "      <td>1263.619995</td>\n",
              "      <td>1263.619995</td>\n",
              "      <td>148465000.0</td>\n",
              "    </tr>\n",
              "  </tbody>\n",
              "</table>\n",
              "<p>112457 rows × 8 columns</p>\n",
              "</div>"
            ],
            "text/plain": [
              "       Index        Date         Open  ...        Close    Adj Close       Volume\n",
              "0        NYA  1965-12-31   528.690002  ...   528.690002   528.690002          0.0\n",
              "1        NYA  1966-01-03   527.210022  ...   527.210022   527.210022          0.0\n",
              "2        NYA  1966-01-04   527.840027  ...   527.840027   527.840027          0.0\n",
              "3        NYA  1966-01-05   531.119995  ...   531.119995   531.119995          0.0\n",
              "4        NYA  1966-01-06   532.070007  ...   532.070007   532.070007          0.0\n",
              "...      ...         ...          ...  ...          ...          ...          ...\n",
              "112452  N100  2021-05-27  1241.119995  ...  1247.069946  1247.069946  379696400.0\n",
              "112453  N100  2021-05-28  1249.469971  ...  1256.599976  1256.599976  160773400.0\n",
              "112454  N100  2021-05-31  1256.079956  ...  1248.930054  1248.930054   91173700.0\n",
              "112455  N100  2021-06-01  1254.609985  ...  1258.579956  1258.579956  155179900.0\n",
              "112456  N100  2021-06-02  1258.489990  ...  1263.619995  1263.619995  148465000.0\n",
              "\n",
              "[112457 rows x 8 columns]"
            ]
          },
          "metadata": {
            "tags": []
          },
          "execution_count": 2
        }
      ]
    },
    {
      "cell_type": "code",
      "metadata": {
        "colab": {
          "base_uri": "https://localhost:8080/"
        },
        "id": "N18nIWAie5R5",
        "outputId": "d78d4a8d-b6b6-4e7b-ee68-3ebb7484f6aa"
      },
      "source": [
        "df['Index'].unique()"
      ],
      "execution_count": 3,
      "outputs": [
        {
          "output_type": "execute_result",
          "data": {
            "text/plain": [
              "array(['NYA', 'IXIC', 'HSI', '000001.SS', 'GSPTSE', '399001.SZ', 'NSEI',\n",
              "       'GDAXI', 'KS11', 'SSMI', 'TWII', 'J203.JO', 'N225', 'N100'],\n",
              "      dtype=object)"
            ]
          },
          "metadata": {
            "tags": []
          },
          "execution_count": 3
        }
      ]
    },
    {
      "cell_type": "code",
      "metadata": {
        "colab": {
          "base_uri": "https://localhost:8080/",
          "height": 408
        },
        "id": "uq_F2jRRe7Y3",
        "outputId": "32c15d11-a3ed-434f-eab9-2c81cca77046"
      },
      "source": [
        "df = df[['Index','Date','High']]\n",
        "df"
      ],
      "execution_count": 4,
      "outputs": [
        {
          "output_type": "execute_result",
          "data": {
            "text/html": [
              "<div>\n",
              "<style scoped>\n",
              "    .dataframe tbody tr th:only-of-type {\n",
              "        vertical-align: middle;\n",
              "    }\n",
              "\n",
              "    .dataframe tbody tr th {\n",
              "        vertical-align: top;\n",
              "    }\n",
              "\n",
              "    .dataframe thead th {\n",
              "        text-align: right;\n",
              "    }\n",
              "</style>\n",
              "<table border=\"1\" class=\"dataframe\">\n",
              "  <thead>\n",
              "    <tr style=\"text-align: right;\">\n",
              "      <th></th>\n",
              "      <th>Index</th>\n",
              "      <th>Date</th>\n",
              "      <th>High</th>\n",
              "    </tr>\n",
              "  </thead>\n",
              "  <tbody>\n",
              "    <tr>\n",
              "      <th>0</th>\n",
              "      <td>NYA</td>\n",
              "      <td>1965-12-31</td>\n",
              "      <td>528.690002</td>\n",
              "    </tr>\n",
              "    <tr>\n",
              "      <th>1</th>\n",
              "      <td>NYA</td>\n",
              "      <td>1966-01-03</td>\n",
              "      <td>527.210022</td>\n",
              "    </tr>\n",
              "    <tr>\n",
              "      <th>2</th>\n",
              "      <td>NYA</td>\n",
              "      <td>1966-01-04</td>\n",
              "      <td>527.840027</td>\n",
              "    </tr>\n",
              "    <tr>\n",
              "      <th>3</th>\n",
              "      <td>NYA</td>\n",
              "      <td>1966-01-05</td>\n",
              "      <td>531.119995</td>\n",
              "    </tr>\n",
              "    <tr>\n",
              "      <th>4</th>\n",
              "      <td>NYA</td>\n",
              "      <td>1966-01-06</td>\n",
              "      <td>532.070007</td>\n",
              "    </tr>\n",
              "    <tr>\n",
              "      <th>...</th>\n",
              "      <td>...</td>\n",
              "      <td>...</td>\n",
              "      <td>...</td>\n",
              "    </tr>\n",
              "    <tr>\n",
              "      <th>112452</th>\n",
              "      <td>N100</td>\n",
              "      <td>2021-05-27</td>\n",
              "      <td>1251.910034</td>\n",
              "    </tr>\n",
              "    <tr>\n",
              "      <th>112453</th>\n",
              "      <td>N100</td>\n",
              "      <td>2021-05-28</td>\n",
              "      <td>1259.209961</td>\n",
              "    </tr>\n",
              "    <tr>\n",
              "      <th>112454</th>\n",
              "      <td>N100</td>\n",
              "      <td>2021-05-31</td>\n",
              "      <td>1258.880005</td>\n",
              "    </tr>\n",
              "    <tr>\n",
              "      <th>112455</th>\n",
              "      <td>N100</td>\n",
              "      <td>2021-06-01</td>\n",
              "      <td>1265.660034</td>\n",
              "    </tr>\n",
              "    <tr>\n",
              "      <th>112456</th>\n",
              "      <td>N100</td>\n",
              "      <td>2021-06-02</td>\n",
              "      <td>1263.709961</td>\n",
              "    </tr>\n",
              "  </tbody>\n",
              "</table>\n",
              "<p>112457 rows × 3 columns</p>\n",
              "</div>"
            ],
            "text/plain": [
              "       Index        Date         High\n",
              "0        NYA  1965-12-31   528.690002\n",
              "1        NYA  1966-01-03   527.210022\n",
              "2        NYA  1966-01-04   527.840027\n",
              "3        NYA  1966-01-05   531.119995\n",
              "4        NYA  1966-01-06   532.070007\n",
              "...      ...         ...          ...\n",
              "112452  N100  2021-05-27  1251.910034\n",
              "112453  N100  2021-05-28  1259.209961\n",
              "112454  N100  2021-05-31  1258.880005\n",
              "112455  N100  2021-06-01  1265.660034\n",
              "112456  N100  2021-06-02  1263.709961\n",
              "\n",
              "[112457 rows x 3 columns]"
            ]
          },
          "metadata": {
            "tags": []
          },
          "execution_count": 4
        }
      ]
    },
    {
      "cell_type": "code",
      "metadata": {
        "colab": {
          "base_uri": "https://localhost:8080/",
          "height": 408
        },
        "id": "shZLLzmEfH7a",
        "outputId": "d2432981-e81d-4f92-db14-d250d390d0eb"
      },
      "source": [
        "df_baru = df.loc[(df['Index'] == 'NYA')].reset_index()\n",
        "del df_baru['index']\n",
        "del df_baru['Index']\n",
        "df_baru"
      ],
      "execution_count": 5,
      "outputs": [
        {
          "output_type": "execute_result",
          "data": {
            "text/html": [
              "<div>\n",
              "<style scoped>\n",
              "    .dataframe tbody tr th:only-of-type {\n",
              "        vertical-align: middle;\n",
              "    }\n",
              "\n",
              "    .dataframe tbody tr th {\n",
              "        vertical-align: top;\n",
              "    }\n",
              "\n",
              "    .dataframe thead th {\n",
              "        text-align: right;\n",
              "    }\n",
              "</style>\n",
              "<table border=\"1\" class=\"dataframe\">\n",
              "  <thead>\n",
              "    <tr style=\"text-align: right;\">\n",
              "      <th></th>\n",
              "      <th>Date</th>\n",
              "      <th>High</th>\n",
              "    </tr>\n",
              "  </thead>\n",
              "  <tbody>\n",
              "    <tr>\n",
              "      <th>0</th>\n",
              "      <td>1965-12-31</td>\n",
              "      <td>528.690002</td>\n",
              "    </tr>\n",
              "    <tr>\n",
              "      <th>1</th>\n",
              "      <td>1966-01-03</td>\n",
              "      <td>527.210022</td>\n",
              "    </tr>\n",
              "    <tr>\n",
              "      <th>2</th>\n",
              "      <td>1966-01-04</td>\n",
              "      <td>527.840027</td>\n",
              "    </tr>\n",
              "    <tr>\n",
              "      <th>3</th>\n",
              "      <td>1966-01-05</td>\n",
              "      <td>531.119995</td>\n",
              "    </tr>\n",
              "    <tr>\n",
              "      <th>4</th>\n",
              "      <td>1966-01-06</td>\n",
              "      <td>532.070007</td>\n",
              "    </tr>\n",
              "    <tr>\n",
              "      <th>...</th>\n",
              "      <td>...</td>\n",
              "      <td>...</td>\n",
              "    </tr>\n",
              "    <tr>\n",
              "      <th>13943</th>\n",
              "      <td>2021-05-24</td>\n",
              "      <td>16508.519530</td>\n",
              "    </tr>\n",
              "    <tr>\n",
              "      <th>13944</th>\n",
              "      <td>2021-05-25</td>\n",
              "      <td>16525.810550</td>\n",
              "    </tr>\n",
              "    <tr>\n",
              "      <th>13945</th>\n",
              "      <td>2021-05-26</td>\n",
              "      <td>16466.339840</td>\n",
              "    </tr>\n",
              "    <tr>\n",
              "      <th>13946</th>\n",
              "      <td>2021-05-27</td>\n",
              "      <td>16546.359380</td>\n",
              "    </tr>\n",
              "    <tr>\n",
              "      <th>13947</th>\n",
              "      <td>2021-05-28</td>\n",
              "      <td>16588.689450</td>\n",
              "    </tr>\n",
              "  </tbody>\n",
              "</table>\n",
              "<p>13948 rows × 2 columns</p>\n",
              "</div>"
            ],
            "text/plain": [
              "             Date          High\n",
              "0      1965-12-31    528.690002\n",
              "1      1966-01-03    527.210022\n",
              "2      1966-01-04    527.840027\n",
              "3      1966-01-05    531.119995\n",
              "4      1966-01-06    532.070007\n",
              "...           ...           ...\n",
              "13943  2021-05-24  16508.519530\n",
              "13944  2021-05-25  16525.810550\n",
              "13945  2021-05-26  16466.339840\n",
              "13946  2021-05-27  16546.359380\n",
              "13947  2021-05-28  16588.689450\n",
              "\n",
              "[13948 rows x 2 columns]"
            ]
          },
          "metadata": {
            "tags": []
          },
          "execution_count": 5
        }
      ]
    },
    {
      "cell_type": "code",
      "metadata": {
        "colab": {
          "base_uri": "https://localhost:8080/"
        },
        "id": "akmI7i-Xe9_p",
        "outputId": "576226c3-2ab5-468c-f08e-ed4fdda032a2"
      },
      "source": [
        "df_baru.info()"
      ],
      "execution_count": 6,
      "outputs": [
        {
          "output_type": "stream",
          "text": [
            "<class 'pandas.core.frame.DataFrame'>\n",
            "RangeIndex: 13948 entries, 0 to 13947\n",
            "Data columns (total 2 columns):\n",
            " #   Column  Non-Null Count  Dtype  \n",
            "---  ------  --------------  -----  \n",
            " 0   Date    13948 non-null  object \n",
            " 1   High    13947 non-null  float64\n",
            "dtypes: float64(1), object(1)\n",
            "memory usage: 218.1+ KB\n"
          ],
          "name": "stdout"
        }
      ]
    },
    {
      "cell_type": "code",
      "metadata": {
        "colab": {
          "base_uri": "https://localhost:8080/",
          "height": 440
        },
        "id": "h8IAvna_fBXD",
        "outputId": "e3f0ed7e-bc1b-4598-e50d-4ece0fc05e07"
      },
      "source": [
        "import datetime as dt\n",
        "df_baru['Date'] = pd.to_datetime(df['Date'], errors='coerce')\n",
        "df_baru = df_baru.dropna(axis = 0, how ='any')\n",
        "df_baru.set_index('Date', inplace= True)\n",
        "df_baru"
      ],
      "execution_count": 7,
      "outputs": [
        {
          "output_type": "execute_result",
          "data": {
            "text/html": [
              "<div>\n",
              "<style scoped>\n",
              "    .dataframe tbody tr th:only-of-type {\n",
              "        vertical-align: middle;\n",
              "    }\n",
              "\n",
              "    .dataframe tbody tr th {\n",
              "        vertical-align: top;\n",
              "    }\n",
              "\n",
              "    .dataframe thead th {\n",
              "        text-align: right;\n",
              "    }\n",
              "</style>\n",
              "<table border=\"1\" class=\"dataframe\">\n",
              "  <thead>\n",
              "    <tr style=\"text-align: right;\">\n",
              "      <th></th>\n",
              "      <th>High</th>\n",
              "    </tr>\n",
              "    <tr>\n",
              "      <th>Date</th>\n",
              "      <th></th>\n",
              "    </tr>\n",
              "  </thead>\n",
              "  <tbody>\n",
              "    <tr>\n",
              "      <th>1965-12-31</th>\n",
              "      <td>528.690002</td>\n",
              "    </tr>\n",
              "    <tr>\n",
              "      <th>1966-01-03</th>\n",
              "      <td>527.210022</td>\n",
              "    </tr>\n",
              "    <tr>\n",
              "      <th>1966-01-04</th>\n",
              "      <td>527.840027</td>\n",
              "    </tr>\n",
              "    <tr>\n",
              "      <th>1966-01-05</th>\n",
              "      <td>531.119995</td>\n",
              "    </tr>\n",
              "    <tr>\n",
              "      <th>1966-01-06</th>\n",
              "      <td>532.070007</td>\n",
              "    </tr>\n",
              "    <tr>\n",
              "      <th>...</th>\n",
              "      <td>...</td>\n",
              "    </tr>\n",
              "    <tr>\n",
              "      <th>2021-05-24</th>\n",
              "      <td>16508.519530</td>\n",
              "    </tr>\n",
              "    <tr>\n",
              "      <th>2021-05-25</th>\n",
              "      <td>16525.810550</td>\n",
              "    </tr>\n",
              "    <tr>\n",
              "      <th>2021-05-26</th>\n",
              "      <td>16466.339840</td>\n",
              "    </tr>\n",
              "    <tr>\n",
              "      <th>2021-05-27</th>\n",
              "      <td>16546.359380</td>\n",
              "    </tr>\n",
              "    <tr>\n",
              "      <th>2021-05-28</th>\n",
              "      <td>16588.689450</td>\n",
              "    </tr>\n",
              "  </tbody>\n",
              "</table>\n",
              "<p>13947 rows × 1 columns</p>\n",
              "</div>"
            ],
            "text/plain": [
              "                    High\n",
              "Date                    \n",
              "1965-12-31    528.690002\n",
              "1966-01-03    527.210022\n",
              "1966-01-04    527.840027\n",
              "1966-01-05    531.119995\n",
              "1966-01-06    532.070007\n",
              "...                  ...\n",
              "2021-05-24  16508.519530\n",
              "2021-05-25  16525.810550\n",
              "2021-05-26  16466.339840\n",
              "2021-05-27  16546.359380\n",
              "2021-05-28  16588.689450\n",
              "\n",
              "[13947 rows x 1 columns]"
            ]
          },
          "metadata": {
            "tags": []
          },
          "execution_count": 7
        }
      ]
    },
    {
      "cell_type": "code",
      "metadata": {
        "colab": {
          "base_uri": "https://localhost:8080/",
          "height": 320
        },
        "id": "YjRWyBmNr7Ox",
        "outputId": "d822b7f6-0797-48e6-ac7e-4f36f834dfcd"
      },
      "source": [
        "plt.figure(figsize=(15,5))\n",
        "plt.plot(df_baru.index,df_baru.High)\n",
        "plt.show()"
      ],
      "execution_count": 8,
      "outputs": [
        {
          "output_type": "display_data",
          "data": {
            "image/png": "[encoded data removed]",
            "text/plain": [
              "<Figure size 1080x360 with 1 Axes>"
            ]
          },
          "metadata": {
            "tags": [],
            "needs_background": "light"
          }
        }
      ]
    },
    {
      "cell_type": "code",
      "metadata": {
        "id": "ExcmgpNctIGL"
      },
      "source": [
        "from sklearn.model_selection import train_test_split\n",
        "\n",
        "train, test = train_test_split(df_baru.values, test_size=0.2, shuffle=False)"
      ],
      "execution_count": 9,
      "outputs": []
    },
    {
      "cell_type": "code",
      "metadata": {
        "id": "Oh32CS03tQPS"
      },
      "source": [
        "from sklearn.preprocessing import MinMaxScaler\n",
        "\n",
        "scaler = MinMaxScaler()\n",
        "train_scale = scaler.fit_transform(train.reshape(-1, 1))\n",
        "test_scale = scaler.fit_transform(test.reshape(-1, 1))"
      ],
      "execution_count": 10,
      "outputs": []
    },
    {
      "cell_type": "code",
      "metadata": {
        "id": "gtVeuBBUtVO4"
      },
      "source": [
        "from keras.preprocessing.sequence import TimeseriesGenerator\n",
        "look_back = 32\n",
        "\n",
        "train_gen = tf.keras.preprocessing.sequence.TimeseriesGenerator(train_scale, train_scale, length=look_back, batch_size=10)\n",
        "test_gen = tf.keras.preprocessing.sequence.TimeseriesGenerator(test_scale, test_scale, length=look_back, batch_size=10)"
      ],
      "execution_count": 11,
      "outputs": []
    },
    {
      "cell_type": "code",
      "metadata": {
        "id": "f31e0xjHtZJG"
      },
      "source": [
        "class myCallback(tf.keras.callbacks.Callback):\n",
        "  def on_epoch_end(self, epoch, logs={}):\n",
        "    if(logs.get('mae')<0.1):\n",
        "      print(\"\\nMean Absolute Error telah mencapai < 10%!\")\n",
        "      self.model.stop_training = True\n",
        "callbacks = myCallback()"
      ],
      "execution_count": 12,
      "outputs": []
    },
    {
      "cell_type": "code",
      "metadata": {
        "id": "a5ctKS_0tbYa"
      },
      "source": [
        "model = tf.keras.models.Sequential([\n",
        "  tf.keras.layers.LSTM(32, activation='relu', return_sequences=True),\n",
        "  tf.keras.layers.GlobalMaxPooling1D(),\n",
        "  tf.keras.layers.Dropout(0.25),\n",
        "  tf.keras.layers.Dense(1)\n",
        "])"
      ],
      "execution_count": 13,
      "outputs": []
    },
    {
      "cell_type": "code",
      "metadata": {
        "colab": {
          "base_uri": "https://localhost:8080/"
        },
        "id": "n4vNpBy6tdy0",
        "outputId": "d304ad7c-8dc6-4791-9e94-c0ff17828670"
      },
      "source": [
        "optimizer = tf.keras.optimizers.SGD(learning_rate=1.0000e-04, momentum=0.9)\n",
        "model.compile(loss=tf.keras.losses.Huber(), optimizer=optimizer, metrics=[\"mae\"])\n",
        "history = model.fit(train_gen, validation_data = test_gen, epochs=50, verbose=2, callbacks = [callbacks])"
      ],
      "execution_count": 14,
      "outputs": [
        {
          "output_type": "stream",
          "text": [
            "Epoch 1/50\n",
            "1113/1113 - 16s - loss: 0.0583 - mae: 0.2387 - val_loss: 0.0388 - val_mae: 0.2289\n",
            "Epoch 2/50\n",
            "1113/1113 - 14s - loss: 0.0307 - mae: 0.2077 - val_loss: 0.0248 - val_mae: 0.1829\n",
            "Epoch 3/50\n",
            "1113/1113 - 14s - loss: 0.0244 - mae: 0.1881 - val_loss: 0.0189 - val_mae: 0.1598\n",
            "Epoch 4/50\n",
            "1113/1113 - 14s - loss: 0.0195 - mae: 0.1683 - val_loss: 0.0151 - val_mae: 0.1428\n",
            "Epoch 5/50\n",
            "1113/1113 - 14s - loss: 0.0156 - mae: 0.1481 - val_loss: 0.0114 - val_mae: 0.1244\n",
            "Epoch 6/50\n",
            "1113/1113 - 14s - loss: 0.0127 - mae: 0.1309 - val_loss: 0.0085 - val_mae: 0.1079\n",
            "Epoch 7/50\n",
            "1113/1113 - 14s - loss: 0.0100 - mae: 0.1129 - val_loss: 0.0062 - val_mae: 0.0928\n",
            "Epoch 8/50\n",
            "1113/1113 - 14s - loss: 0.0082 - mae: 0.0980 - val_loss: 0.0048 - val_mae: 0.0819\n",
            "\n",
            "Mean Absolute Error telah mencapai < 10%!\n"
          ],
          "name": "stdout"
        }
      ]
    },
    {
      "cell_type": "code",
      "metadata": {
        "colab": {
          "base_uri": "https://localhost:8080/",
          "height": 295
        },
        "id": "EAnEBaRathdj",
        "outputId": "b955b233-0127-4358-f34b-36dfa77895ec"
      },
      "source": [
        "import matplotlib.pyplot as plt\n",
        "plt.plot(history.history['mae'])\n",
        "plt.plot(history.history['val_mae'])\n",
        "plt.title('Akurasi Model')\n",
        "plt.ylabel('mae')\n",
        "plt.xlabel('epoch')\n",
        "plt.legend(['train', 'test'], loc='upper left')\n",
        "plt.show()"
      ],
      "execution_count": 15,
      "outputs": [
        {
          "output_type": "display_data",
          "data": {
            "image/png": "[encoded data removed]",
            "text/plain": [
              "<Figure size 432x288 with 1 Axes>"
            ]
          },
          "metadata": {
            "tags": [],
            "needs_background": "light"
          }
        }
      ]
    },
    {
      "cell_type": "code",
      "metadata": {
        "colab": {
          "base_uri": "https://localhost:8080/",
          "height": 295
        },
        "id": "J0n-u34J1Qo9",
        "outputId": "dd6b3959-242f-47bb-a2d4-9fee16782bde"
      },
      "source": [
        "import matplotlib.pyplot as plt\n",
        "plt.plot(history.history['loss'])\n",
        "plt.plot(history.history['val_loss'])\n",
        "plt.title('Akurasi Model')\n",
        "plt.ylabel('mae')\n",
        "plt.xlabel('epoch')\n",
        "plt.legend(['train', 'test'], loc='upper left')\n",
        "plt.show()"
      ],
      "execution_count": 16,
      "outputs": [
        {
          "output_type": "display_data",
          "data": {
            "image/png": "[encoded data removed]",
            "text/plain": [
              "<Figure size 432x288 with 1 Axes>"
            ]
          },
          "metadata": {
            "tags": [],
            "needs_background": "light"
          }
        }
      ]
    },
    {
      "cell_type": "code",
      "metadata": {
        "id": "K-P_19FM1bTD"
      },
      "source": [
        ""
      ],
      "execution_count": 16,
      "outputs": []
    }
  ]
}